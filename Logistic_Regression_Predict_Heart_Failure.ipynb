{
  "nbformat": 4,
  "nbformat_minor": 0,
  "metadata": {
    "colab": {
      "name": "Logistic Regression_Predict Heart Failure.ipynb",
      "provenance": [],
      "collapsed_sections": [],
      "authorship_tag": "ABX9TyM8nu6AcZMAIgsQLCW+sPkZ",
      "include_colab_link": true
    },
    "kernelspec": {
      "name": "python3",
      "display_name": "Python 3"
    },
    "language_info": {
      "name": "python"
    }
  },
  "cells": [
    {
      "cell_type": "markdown",
      "metadata": {
        "id": "view-in-github",
        "colab_type": "text"
      },
      "source": [
        "<a href=\"https://colab.research.google.com/github/septianidn/APM_11/blob/main/Logistic_Regression_Predict_Heart_Failure.ipynb\" target=\"_parent\"><img src=\"https://colab.research.google.com/assets/colab-badge.svg\" alt=\"Open In Colab\"/></a>"
      ]
    },
    {
      "cell_type": "code",
      "execution_count": null,
      "metadata": {
        "colab": {
          "base_uri": "https://localhost:8080/"
        },
        "id": "mSNyR-nBubDc",
        "outputId": "d1f1aa6b-fd2a-4a4c-d9b9-85ea13cc1265"
      },
      "outputs": [
        {
          "output_type": "stream",
          "name": "stdout",
          "text": [
            "Mounted at /content/gdrive\n"
          ]
        }
      ],
      "source": [
        "from google.colab import drive\n",
        "drive.mount('/content/gdrive')"
      ]
    },
    {
      "cell_type": "code",
      "source": [
        "from sklearn.datasets import make_classification\n",
        "from matplotlib import pyplot as plt\n",
        "from sklearn.preprocessing import LabelBinarizer\n",
        "from sklearn.linear_model import LogisticRegression\n",
        "from sklearn.model_selection import train_test_split\n",
        "from sklearn.metrics import confusion_matrix\n",
        "from sklearn.metrics import accuracy_score\n",
        "from sklearn.metrics import precision_score\n",
        "from sklearn.metrics import f1_score\n",
        "from sklearn.metrics import roc_curve, auc\n",
        "import pandas as pd"
      ],
      "metadata": {
        "id": "yHcsc37U3sSa"
      },
      "execution_count": null,
      "outputs": []
    },
    {
      "cell_type": "code",
      "source": [
        "import pandas as pd\n",
        "\n",
        "df = pd.read_csv('gdrive/My Drive/APM/P1/heart_failure_clinical_records_dataset.csv')\n",
        "\n",
        "df.head()"
      ],
      "metadata": {
        "colab": {
          "base_uri": "https://localhost:8080/",
          "height": 206
        },
        "id": "YD7psjm9yVc4",
        "outputId": "fd86e00e-2272-4be8-d6aa-2466ea24967b"
      },
      "execution_count": null,
      "outputs": [
        {
          "output_type": "execute_result",
          "data": {
            "text/html": [
              "\n",
              "  <div id=\"df-af6bd4e4-d134-42d9-a7c2-955e80615d67\">\n",
              "    <div class=\"colab-df-container\">\n",
              "      <div>\n",
              "<style scoped>\n",
              "    .dataframe tbody tr th:only-of-type {\n",
              "        vertical-align: middle;\n",
              "    }\n",
              "\n",
              "    .dataframe tbody tr th {\n",
              "        vertical-align: top;\n",
              "    }\n",
              "\n",
              "    .dataframe thead th {\n",
              "        text-align: right;\n",
              "    }\n",
              "</style>\n",
              "<table border=\"1\" class=\"dataframe\">\n",
              "  <thead>\n",
              "    <tr style=\"text-align: right;\">\n",
              "      <th></th>\n",
              "      <th>age</th>\n",
              "      <th>anaemia</th>\n",
              "      <th>creatinine_phosphokinase</th>\n",
              "      <th>diabetes</th>\n",
              "      <th>ejection_fraction</th>\n",
              "      <th>high_blood_pressure</th>\n",
              "      <th>platelets</th>\n",
              "      <th>serum_creatinine</th>\n",
              "      <th>serum_sodium</th>\n",
              "      <th>sex</th>\n",
              "      <th>smoking</th>\n",
              "      <th>time</th>\n",
              "      <th>DEATH_EVENT</th>\n",
              "    </tr>\n",
              "  </thead>\n",
              "  <tbody>\n",
              "    <tr>\n",
              "      <th>0</th>\n",
              "      <td>75.0</td>\n",
              "      <td>0</td>\n",
              "      <td>582</td>\n",
              "      <td>0</td>\n",
              "      <td>20</td>\n",
              "      <td>1</td>\n",
              "      <td>265000.00</td>\n",
              "      <td>1.9</td>\n",
              "      <td>130</td>\n",
              "      <td>1</td>\n",
              "      <td>0</td>\n",
              "      <td>4</td>\n",
              "      <td>1</td>\n",
              "    </tr>\n",
              "    <tr>\n",
              "      <th>1</th>\n",
              "      <td>55.0</td>\n",
              "      <td>0</td>\n",
              "      <td>7861</td>\n",
              "      <td>0</td>\n",
              "      <td>38</td>\n",
              "      <td>0</td>\n",
              "      <td>263358.03</td>\n",
              "      <td>1.1</td>\n",
              "      <td>136</td>\n",
              "      <td>1</td>\n",
              "      <td>0</td>\n",
              "      <td>6</td>\n",
              "      <td>1</td>\n",
              "    </tr>\n",
              "    <tr>\n",
              "      <th>2</th>\n",
              "      <td>65.0</td>\n",
              "      <td>0</td>\n",
              "      <td>146</td>\n",
              "      <td>0</td>\n",
              "      <td>20</td>\n",
              "      <td>0</td>\n",
              "      <td>162000.00</td>\n",
              "      <td>1.3</td>\n",
              "      <td>129</td>\n",
              "      <td>1</td>\n",
              "      <td>1</td>\n",
              "      <td>7</td>\n",
              "      <td>1</td>\n",
              "    </tr>\n",
              "    <tr>\n",
              "      <th>3</th>\n",
              "      <td>50.0</td>\n",
              "      <td>1</td>\n",
              "      <td>111</td>\n",
              "      <td>0</td>\n",
              "      <td>20</td>\n",
              "      <td>0</td>\n",
              "      <td>210000.00</td>\n",
              "      <td>1.9</td>\n",
              "      <td>137</td>\n",
              "      <td>1</td>\n",
              "      <td>0</td>\n",
              "      <td>7</td>\n",
              "      <td>1</td>\n",
              "    </tr>\n",
              "    <tr>\n",
              "      <th>4</th>\n",
              "      <td>65.0</td>\n",
              "      <td>1</td>\n",
              "      <td>160</td>\n",
              "      <td>1</td>\n",
              "      <td>20</td>\n",
              "      <td>0</td>\n",
              "      <td>327000.00</td>\n",
              "      <td>2.7</td>\n",
              "      <td>116</td>\n",
              "      <td>0</td>\n",
              "      <td>0</td>\n",
              "      <td>8</td>\n",
              "      <td>1</td>\n",
              "    </tr>\n",
              "  </tbody>\n",
              "</table>\n",
              "</div>\n",
              "      <button class=\"colab-df-convert\" onclick=\"convertToInteractive('df-af6bd4e4-d134-42d9-a7c2-955e80615d67')\"\n",
              "              title=\"Convert this dataframe to an interactive table.\"\n",
              "              style=\"display:none;\">\n",
              "        \n",
              "  <svg xmlns=\"http://www.w3.org/2000/svg\" height=\"24px\"viewBox=\"0 0 24 24\"\n",
              "       width=\"24px\">\n",
              "    <path d=\"M0 0h24v24H0V0z\" fill=\"none\"/>\n",
              "    <path d=\"M18.56 5.44l.94 2.06.94-2.06 2.06-.94-2.06-.94-.94-2.06-.94 2.06-2.06.94zm-11 1L8.5 8.5l.94-2.06 2.06-.94-2.06-.94L8.5 2.5l-.94 2.06-2.06.94zm10 10l.94 2.06.94-2.06 2.06-.94-2.06-.94-.94-2.06-.94 2.06-2.06.94z\"/><path d=\"M17.41 7.96l-1.37-1.37c-.4-.4-.92-.59-1.43-.59-.52 0-1.04.2-1.43.59L10.3 9.45l-7.72 7.72c-.78.78-.78 2.05 0 2.83L4 21.41c.39.39.9.59 1.41.59.51 0 1.02-.2 1.41-.59l7.78-7.78 2.81-2.81c.8-.78.8-2.07 0-2.86zM5.41 20L4 18.59l7.72-7.72 1.47 1.35L5.41 20z\"/>\n",
              "  </svg>\n",
              "      </button>\n",
              "      \n",
              "  <style>\n",
              "    .colab-df-container {\n",
              "      display:flex;\n",
              "      flex-wrap:wrap;\n",
              "      gap: 12px;\n",
              "    }\n",
              "\n",
              "    .colab-df-convert {\n",
              "      background-color: #E8F0FE;\n",
              "      border: none;\n",
              "      border-radius: 50%;\n",
              "      cursor: pointer;\n",
              "      display: none;\n",
              "      fill: #1967D2;\n",
              "      height: 32px;\n",
              "      padding: 0 0 0 0;\n",
              "      width: 32px;\n",
              "    }\n",
              "\n",
              "    .colab-df-convert:hover {\n",
              "      background-color: #E2EBFA;\n",
              "      box-shadow: 0px 1px 2px rgba(60, 64, 67, 0.3), 0px 1px 3px 1px rgba(60, 64, 67, 0.15);\n",
              "      fill: #174EA6;\n",
              "    }\n",
              "\n",
              "    [theme=dark] .colab-df-convert {\n",
              "      background-color: #3B4455;\n",
              "      fill: #D2E3FC;\n",
              "    }\n",
              "\n",
              "    [theme=dark] .colab-df-convert:hover {\n",
              "      background-color: #434B5C;\n",
              "      box-shadow: 0px 1px 3px 1px rgba(0, 0, 0, 0.15);\n",
              "      filter: drop-shadow(0px 1px 2px rgba(0, 0, 0, 0.3));\n",
              "      fill: #FFFFFF;\n",
              "    }\n",
              "  </style>\n",
              "\n",
              "      <script>\n",
              "        const buttonEl =\n",
              "          document.querySelector('#df-af6bd4e4-d134-42d9-a7c2-955e80615d67 button.colab-df-convert');\n",
              "        buttonEl.style.display =\n",
              "          google.colab.kernel.accessAllowed ? 'block' : 'none';\n",
              "\n",
              "        async function convertToInteractive(key) {\n",
              "          const element = document.querySelector('#df-af6bd4e4-d134-42d9-a7c2-955e80615d67');\n",
              "          const dataTable =\n",
              "            await google.colab.kernel.invokeFunction('convertToInteractive',\n",
              "                                                     [key], {});\n",
              "          if (!dataTable) return;\n",
              "\n",
              "          const docLinkHtml = 'Like what you see? Visit the ' +\n",
              "            '<a target=\"_blank\" href=https://colab.research.google.com/notebooks/data_table.ipynb>data table notebook</a>'\n",
              "            + ' to learn more about interactive tables.';\n",
              "          element.innerHTML = '';\n",
              "          dataTable['output_type'] = 'display_data';\n",
              "          await google.colab.output.renderOutput(dataTable, element);\n",
              "          const docLink = document.createElement('div');\n",
              "          docLink.innerHTML = docLinkHtml;\n",
              "          element.appendChild(docLink);\n",
              "        }\n",
              "      </script>\n",
              "    </div>\n",
              "  </div>\n",
              "  "
            ],
            "text/plain": [
              "    age  anaemia  creatinine_phosphokinase  diabetes  ejection_fraction  \\\n",
              "0  75.0        0                       582         0                 20   \n",
              "1  55.0        0                      7861         0                 38   \n",
              "2  65.0        0                       146         0                 20   \n",
              "3  50.0        1                       111         0                 20   \n",
              "4  65.0        1                       160         1                 20   \n",
              "\n",
              "   high_blood_pressure  platelets  serum_creatinine  serum_sodium  sex  \\\n",
              "0                    1  265000.00               1.9           130    1   \n",
              "1                    0  263358.03               1.1           136    1   \n",
              "2                    0  162000.00               1.3           129    1   \n",
              "3                    0  210000.00               1.9           137    1   \n",
              "4                    0  327000.00               2.7           116    0   \n",
              "\n",
              "   smoking  time  DEATH_EVENT  \n",
              "0        0     4            1  \n",
              "1        0     6            1  \n",
              "2        1     7            1  \n",
              "3        0     7            1  \n",
              "4        0     8            1  "
            ]
          },
          "metadata": {},
          "execution_count": 78
        }
      ]
    },
    {
      "cell_type": "code",
      "source": [
        "X = df[['age']].values\n",
        "y = df['DEATH_EVENT']\n",
        "\n",
        "lb = LabelBinarizer()\n",
        "y = lb.fit_transform(y).ravel()\n",
        "lb.classes_"
      ],
      "metadata": {
        "colab": {
          "base_uri": "https://localhost:8080/"
        },
        "id": "UhVuqiaJ9N03",
        "outputId": "671c4455-c79a-4552-d9c4-2a9870e8ddaa"
      },
      "execution_count": null,
      "outputs": [
        {
          "output_type": "execute_result",
          "data": {
            "text/plain": [
              "array([0, 1])"
            ]
          },
          "metadata": {},
          "execution_count": 79
        }
      ]
    },
    {
      "cell_type": "code",
      "source": [
        "# Create a scatter plot\n",
        "plt.scatter(x, y, c=y, cmap='rainbow')\n",
        "plt.title('Scatter Plot of Logistic Regression')\n",
        "plt.show()"
      ],
      "metadata": {
        "colab": {
          "base_uri": "https://localhost:8080/",
          "height": 281
        },
        "id": "iM7th4dtCMG1",
        "outputId": "fff87033-30c7-4b6e-90de-b40188a59fad"
      },
      "execution_count": null,
      "outputs": [
        {
          "output_type": "display_data",
          "data": {
            "image/png": "[encoded data removed]",
            "text/plain": [
              "<Figure size 432x288 with 1 Axes>"
            ]
          },
          "metadata": {
            "needs_background": "light"
          }
        }
      ]
    },
    {
      "cell_type": "code",
      "source": [
        "X_train, X_test, y_train, y_test = train_test_split(X,\n",
        "                                                    y,\n",
        "                                                    test_size=0.25,\n",
        "                                                    random_state=0)\n",
        "\n",
        "print(X_train, '\\n')\n",
        "print(y_train)"
      ],
      "metadata": {
        "colab": {
          "base_uri": "https://localhost:8080/"
        },
        "id": "R_eDG-Fd6t7x",
        "outputId": "71da8426-ec05-4bb0-a7dd-37ad8397e544"
      },
      "execution_count": null,
      "outputs": [
        {
          "output_type": "stream",
          "name": "stdout",
          "text": [
            "[[45.   ]\n",
            " [82.   ]\n",
            " [70.   ]\n",
            " [64.   ]\n",
            " [75.   ]\n",
            " [65.   ]\n",
            " [66.   ]\n",
            " [45.   ]\n",
            " [78.   ]\n",
            " [75.   ]\n",
            " [70.   ]\n",
            " [70.   ]\n",
            " [47.   ]\n",
            " [70.   ]\n",
            " [77.   ]\n",
            " [70.   ]\n",
            " [60.   ]\n",
            " [65.   ]\n",
            " [40.   ]\n",
            " [50.   ]\n",
            " [85.   ]\n",
            " [75.   ]\n",
            " [60.   ]\n",
            " [59.   ]\n",
            " [70.   ]\n",
            " [70.   ]\n",
            " [40.   ]\n",
            " [46.   ]\n",
            " [52.   ]\n",
            " [58.   ]\n",
            " [75.   ]\n",
            " [51.   ]\n",
            " [65.   ]\n",
            " [45.   ]\n",
            " [48.   ]\n",
            " [65.   ]\n",
            " [59.   ]\n",
            " [50.   ]\n",
            " [79.   ]\n",
            " [64.   ]\n",
            " [45.   ]\n",
            " [59.   ]\n",
            " [55.   ]\n",
            " [85.   ]\n",
            " [65.   ]\n",
            " [82.   ]\n",
            " [52.   ]\n",
            " [87.   ]\n",
            " [70.   ]\n",
            " [60.   ]\n",
            " [45.   ]\n",
            " [60.   ]\n",
            " [63.   ]\n",
            " [45.   ]\n",
            " [65.   ]\n",
            " [63.   ]\n",
            " [53.   ]\n",
            " [50.   ]\n",
            " [72.   ]\n",
            " [68.   ]\n",
            " [60.   ]\n",
            " [62.   ]\n",
            " [50.   ]\n",
            " [70.   ]\n",
            " [56.   ]\n",
            " [50.   ]\n",
            " [45.   ]\n",
            " [68.   ]\n",
            " [50.   ]\n",
            " [50.   ]\n",
            " [43.   ]\n",
            " [75.   ]\n",
            " [94.   ]\n",
            " [42.   ]\n",
            " [70.   ]\n",
            " [60.   ]\n",
            " [48.   ]\n",
            " [50.   ]\n",
            " [72.   ]\n",
            " [45.   ]\n",
            " [70.   ]\n",
            " [53.   ]\n",
            " [65.   ]\n",
            " [53.   ]\n",
            " [60.   ]\n",
            " [55.   ]\n",
            " [55.   ]\n",
            " [75.   ]\n",
            " [50.   ]\n",
            " [49.   ]\n",
            " [50.   ]\n",
            " [49.   ]\n",
            " [60.   ]\n",
            " [68.   ]\n",
            " [49.   ]\n",
            " [55.   ]\n",
            " [60.   ]\n",
            " [60.   ]\n",
            " [55.   ]\n",
            " [60.   ]\n",
            " [58.   ]\n",
            " [53.   ]\n",
            " [85.   ]\n",
            " [53.   ]\n",
            " [72.   ]\n",
            " [60.   ]\n",
            " [62.   ]\n",
            " [63.   ]\n",
            " [70.   ]\n",
            " [60.   ]\n",
            " [50.   ]\n",
            " [61.   ]\n",
            " [60.   ]\n",
            " [73.   ]\n",
            " [60.   ]\n",
            " [65.   ]\n",
            " [63.   ]\n",
            " [90.   ]\n",
            " [63.   ]\n",
            " [70.   ]\n",
            " [75.   ]\n",
            " [58.   ]\n",
            " [58.   ]\n",
            " [55.   ]\n",
            " [55.   ]\n",
            " [65.   ]\n",
            " [65.   ]\n",
            " [57.   ]\n",
            " [80.   ]\n",
            " [51.   ]\n",
            " [45.   ]\n",
            " [46.   ]\n",
            " [53.   ]\n",
            " [50.   ]\n",
            " [75.   ]\n",
            " [61.   ]\n",
            " [75.   ]\n",
            " [40.   ]\n",
            " [65.   ]\n",
            " [78.   ]\n",
            " [60.   ]\n",
            " [55.   ]\n",
            " [45.   ]\n",
            " [45.   ]\n",
            " [75.   ]\n",
            " [70.   ]\n",
            " [60.   ]\n",
            " [59.   ]\n",
            " [51.   ]\n",
            " [66.   ]\n",
            " [80.   ]\n",
            " [53.   ]\n",
            " [42.   ]\n",
            " [50.   ]\n",
            " [65.   ]\n",
            " [60.   ]\n",
            " [60.   ]\n",
            " [42.   ]\n",
            " [62.   ]\n",
            " [86.   ]\n",
            " [80.   ]\n",
            " [69.   ]\n",
            " [60.   ]\n",
            " [70.   ]\n",
            " [70.   ]\n",
            " [60.   ]\n",
            " [55.   ]\n",
            " [60.   ]\n",
            " [61.   ]\n",
            " [50.   ]\n",
            " [70.   ]\n",
            " [72.   ]\n",
            " [46.   ]\n",
            " [55.   ]\n",
            " [45.   ]\n",
            " [65.   ]\n",
            " [40.   ]\n",
            " [60.   ]\n",
            " [63.   ]\n",
            " [70.   ]\n",
            " [45.   ]\n",
            " [58.   ]\n",
            " [61.   ]\n",
            " [58.   ]\n",
            " [75.   ]\n",
            " [50.   ]\n",
            " [62.   ]\n",
            " [54.   ]\n",
            " [70.   ]\n",
            " [85.   ]\n",
            " [50.   ]\n",
            " [58.   ]\n",
            " [60.667]\n",
            " [45.   ]\n",
            " [44.   ]\n",
            " [64.   ]\n",
            " [45.   ]\n",
            " [49.   ]\n",
            " [63.   ]\n",
            " [65.   ]\n",
            " [73.   ]\n",
            " [58.   ]\n",
            " [50.   ]\n",
            " [85.   ]\n",
            " [80.   ]\n",
            " [80.   ]\n",
            " [60.   ]\n",
            " [65.   ]\n",
            " [65.   ]\n",
            " [60.   ]\n",
            " [73.   ]\n",
            " [44.   ]\n",
            " [41.   ]\n",
            " [65.   ]\n",
            " [40.   ]\n",
            " [70.   ]\n",
            " [50.   ]\n",
            " [80.   ]\n",
            " [77.   ]\n",
            " [55.   ]\n",
            " [50.   ]\n",
            " [85.   ]\n",
            " [60.   ]\n",
            " [70.   ]] \n",
            "\n",
            "[0 1 0 0 0 0 0 0 0 0 0 0 0 0 0 0 1 0 0 0 0 0 1 1 1 0 0 1 0 0 0 0 0 0 1 0 0\n",
            " 0 0 0 1 1 0 1 1 1 0 1 0 1 0 0 0 0 1 0 0 1 1 0 0 0 0 1 0 1 0 0 1 0 0 1 1 0\n",
            " 0 0 1 0 0 0 0 1 1 0 0 0 0 1 0 1 1 0 0 1 0 0 0 0 0 1 0 0 0 0 0 0 0 0 0 0 0\n",
            " 0 0 0 1 0 0 1 0 1 1 0 0 0 0 0 1 1 1 0 0 0 0 0 1 0 0 0 0 0 0 1 0 0 1 1 0 1\n",
            " 0 0 1 0 0 0 0 0 1 0 1 1 0 1 0 0 0 1 1 0 0 1 1 1 0 0 1 1 0 0 0 1 1 0 0 1 1\n",
            " 1 0 0 0 1 1 0 1 0 0 0 0 0 0 0 0 0 0 1 1 1 0 0 0 1 0 0 0 0 0 0 0 1 1 0 0 0\n",
            " 1 0]\n"
          ]
        }
      ]
    },
    {
      "cell_type": "code",
      "source": [
        "model = LogisticRegression()\n",
        "model.fit(X_train, y_train)\n",
        "y_pred = model.predict(X_test)\n",
        "\n",
        "for age, death in zip(X_test[:100], y_pred[:100]):\n",
        "  print(f'Umur: {age} - Kematian: {death}')"
      ],
      "metadata": {
        "colab": {
          "base_uri": "https://localhost:8080/"
        },
        "id": "Bz_rLHiw_BPd",
        "outputId": "a0e3e3f1-6bbb-4ac0-cf23-8f5b9b4f028f"
      },
      "execution_count": null,
      "outputs": [
        {
          "output_type": "stream",
          "name": "stdout",
          "text": [
            "Umur: [40.] - Kematian: 0\n",
            "Umur: [60.667] - Kematian: 0\n",
            "Umur: [45.] - Kematian: 0\n",
            "Umur: [55.] - Kematian: 0\n",
            "Umur: [70.] - Kematian: 0\n",
            "Umur: [65.] - Kematian: 0\n",
            "Umur: [65.] - Kematian: 0\n",
            "Umur: [50.] - Kematian: 0\n",
            "Umur: [60.] - Kematian: 0\n",
            "Umur: [63.] - Kematian: 0\n",
            "Umur: [70.] - Kematian: 0\n",
            "Umur: [82.] - Kematian: 1\n",
            "Umur: [58.] - Kematian: 0\n",
            "Umur: [55.] - Kematian: 0\n",
            "Umur: [68.] - Kematian: 0\n",
            "Umur: [69.] - Kematian: 0\n",
            "Umur: [40.] - Kematian: 0\n",
            "Umur: [70.] - Kematian: 0\n",
            "Umur: [55.] - Kematian: 0\n",
            "Umur: [52.] - Kematian: 0\n",
            "Umur: [80.] - Kematian: 1\n",
            "Umur: [42.] - Kematian: 0\n",
            "Umur: [60.] - Kematian: 0\n",
            "Umur: [53.] - Kematian: 0\n",
            "Umur: [73.] - Kematian: 0\n",
            "Umur: [60.] - Kematian: 0\n",
            "Umur: [45.] - Kematian: 0\n",
            "Umur: [55.] - Kematian: 0\n",
            "Umur: [62.] - Kematian: 0\n",
            "Umur: [53.] - Kematian: 0\n",
            "Umur: [42.] - Kematian: 0\n",
            "Umur: [42.] - Kematian: 0\n",
            "Umur: [65.] - Kematian: 0\n",
            "Umur: [60.] - Kematian: 0\n",
            "Umur: [54.] - Kematian: 0\n",
            "Umur: [72.] - Kematian: 0\n",
            "Umur: [69.] - Kematian: 0\n",
            "Umur: [65.] - Kematian: 0\n",
            "Umur: [50.] - Kematian: 0\n",
            "Umur: [90.] - Kematian: 1\n",
            "Umur: [68.] - Kematian: 0\n",
            "Umur: [57.] - Kematian: 0\n",
            "Umur: [67.] - Kematian: 0\n",
            "Umur: [65.] - Kematian: 0\n",
            "Umur: [95.] - Kematian: 1\n",
            "Umur: [50.] - Kematian: 0\n",
            "Umur: [53.] - Kematian: 0\n",
            "Umur: [45.] - Kematian: 0\n",
            "Umur: [60.] - Kematian: 0\n",
            "Umur: [50.] - Kematian: 0\n",
            "Umur: [65.] - Kematian: 0\n",
            "Umur: [60.] - Kematian: 0\n",
            "Umur: [50.] - Kematian: 0\n",
            "Umur: [55.] - Kematian: 0\n",
            "Umur: [72.] - Kematian: 0\n",
            "Umur: [60.] - Kematian: 0\n",
            "Umur: [65.] - Kematian: 0\n",
            "Umur: [95.] - Kematian: 1\n",
            "Umur: [65.] - Kematian: 0\n",
            "Umur: [50.] - Kematian: 0\n",
            "Umur: [81.] - Kematian: 1\n",
            "Umur: [50.] - Kematian: 0\n",
            "Umur: [45.] - Kematian: 0\n",
            "Umur: [52.] - Kematian: 0\n",
            "Umur: [50.] - Kematian: 0\n",
            "Umur: [42.] - Kematian: 0\n",
            "Umur: [90.] - Kematian: 1\n",
            "Umur: [55.] - Kematian: 0\n",
            "Umur: [65.] - Kematian: 0\n",
            "Umur: [51.] - Kematian: 0\n",
            "Umur: [52.] - Kematian: 0\n",
            "Umur: [58.] - Kematian: 0\n",
            "Umur: [67.] - Kematian: 0\n",
            "Umur: [70.] - Kematian: 0\n",
            "Umur: [72.] - Kematian: 0\n"
          ]
        }
      ]
    },
    {
      "cell_type": "markdown",
      "source": [
        "Confusion matrix"
      ],
      "metadata": {
        "id": "X3shaMI1KlLt"
      }
    },
    {
      "cell_type": "code",
      "source": [
        "matrix = confusion_matrix(y_test, y_pred)\n",
        "matrix"
      ],
      "metadata": {
        "colab": {
          "base_uri": "https://localhost:8080/"
        },
        "id": "4xEYLYG_D-gB",
        "outputId": "c9c23351-b0a8-453d-8678-73dbcde7d3be"
      },
      "execution_count": null,
      "outputs": [
        {
          "output_type": "execute_result",
          "data": {
            "text/plain": [
              "array([[45,  3],\n",
              "       [23,  4]])"
            ]
          },
          "metadata": {},
          "execution_count": 83
        }
      ]
    },
    {
      "cell_type": "code",
      "source": [
        "tn, fp, fn, tp = matrix.ravel()\n",
        "\n",
        "print(f'TN: {tn}')\n",
        "print(f'FP: {fp}')\n",
        "print(f'FN: {fn}')\n",
        "print(f'TP: {tp}')"
      ],
      "metadata": {
        "colab": {
          "base_uri": "https://localhost:8080/"
        },
        "id": "yK8YFXjjHnWf",
        "outputId": "5274ac1e-b77a-4c19-b12e-601617c9cc62"
      },
      "execution_count": null,
      "outputs": [
        {
          "output_type": "stream",
          "name": "stdout",
          "text": [
            "TN: 45\n",
            "FP: 3\n",
            "FN: 23\n",
            "TP: 4\n"
          ]
        }
      ]
    },
    {
      "cell_type": "code",
      "source": [
        "plt.matshow(matrix)\n",
        "plt.colorbar()\n",
        "\n",
        "plt.title('Confusion Matrix')\n",
        "plt.ylabel('True Label')\n",
        "plt.xlabel('Predicted Label')\n",
        "plt.show()"
      ],
      "metadata": {
        "colab": {
          "base_uri": "https://localhost:8080/",
          "height": 258
        },
        "id": "s37iP-JVLD4i",
        "outputId": "9a5bdf08-56b7-43b8-a1e3-939c969e1fc1"
      },
      "execution_count": null,
      "outputs": [
        {
          "output_type": "display_data",
          "data": {
            "image/png": "[encoded data removed]",
            "text/plain": [
              "<Figure size 288x288 with 2 Axes>"
            ]
          },
          "metadata": {
            "needs_background": "light"
          }
        }
      ]
    },
    {
      "cell_type": "code",
      "source": [
        "accuracy_score(y_test, y_pred)"
      ],
      "metadata": {
        "colab": {
          "base_uri": "https://localhost:8080/"
        },
        "id": "AdllZDxjMFQW",
        "outputId": "6c1efb0f-09b7-433b-803b-4f7749aa03c6"
      },
      "execution_count": null,
      "outputs": [
        {
          "output_type": "execute_result",
          "data": {
            "text/plain": [
              "0.6533333333333333"
            ]
          },
          "metadata": {},
          "execution_count": 86
        }
      ]
    },
    {
      "cell_type": "code",
      "source": [
        "precision_score(y_test, y_pred)"
      ],
      "metadata": {
        "colab": {
          "base_uri": "https://localhost:8080/"
        },
        "id": "9ebCKW8_NPrb",
        "outputId": "15a89f14-fce2-45ed-d1b5-411f44c3cde8"
      },
      "execution_count": null,
      "outputs": [
        {
          "output_type": "execute_result",
          "data": {
            "text/plain": [
              "0.5714285714285714"
            ]
          },
          "metadata": {},
          "execution_count": 87
        }
      ]
    },
    {
      "cell_type": "code",
      "source": [
        "f1_score(y_test, y_pred)"
      ],
      "metadata": {
        "colab": {
          "base_uri": "https://localhost:8080/"
        },
        "id": "cBSeV60rNe2D",
        "outputId": "45be550a-bd57-4206-9425-386f4bc78d92"
      },
      "execution_count": null,
      "outputs": [
        {
          "output_type": "execute_result",
          "data": {
            "text/plain": [
              "0.23529411764705882"
            ]
          },
          "metadata": {},
          "execution_count": 88
        }
      ]
    },
    {
      "cell_type": "code",
      "source": [
        "prob_estimates = model.predict_proba(X_test)\n",
        "\n",
        "fpr, tpr, threshhold = roc_curve(y_test, prob_estimates[:, 1])\n",
        "nilai_auc = auc(fpr, tpr)\n",
        "\n",
        "plt.plot(fpr, tpr, 'b', label=f'AUC={nilai_auc}')\n",
        "plt.plot([0,1], [0,1], 'r--', label='Random Classifier')\n",
        "\n",
        "plt.title('ROC: Receiver Operating Characteristic')\n",
        "plt.xlabel('Fallout or False Positive Rate')\n",
        "plt.ylabel('Recall or True Positive Rate')\n",
        "plt.legend()\n",
        "plt.show()"
      ],
      "metadata": {
        "colab": {
          "base_uri": "https://localhost:8080/",
          "height": 295
        },
        "id": "CPkkWq0MOYgy",
        "outputId": "fc41dcc8-4ef2-47fd-dc4d-51a45928484e"
      },
      "execution_count": null,
      "outputs": [
        {
          "output_type": "display_data",
          "data": {
            "image/png": "[encoded data removed]",
            "text/plain": [
              "<Figure size 432x288 with 1 Axes>"
            ]
          },
          "metadata": {
            "needs_background": "light"
          }
        }
      ]
    },
    {
      "cell_type": "code",
      "source": [
        "! git clone https://github.com/septianidn/APM_11.git"
      ],
      "metadata": {
        "colab": {
          "base_uri": "https://localhost:8080/"
        },
        "id": "R-47GVmWS4yn",
        "outputId": "7a40ceec-541a-4800-9def-9b8f2b358b3f"
      },
      "execution_count": 90,
      "outputs": [
        {
          "output_type": "stream",
          "name": "stdout",
          "text": [
            "Cloning into 'APM_11'...\n",
            "remote: Enumerating objects: 13, done.\u001b[K\n",
            "remote: Counting objects: 100% (13/13), done.\u001b[K\n",
            "remote: Compressing objects: 100% (9/9), done.\u001b[K\n",
            "remote: Total 13 (delta 1), reused 0 (delta 0), pack-reused 0\u001b[K\n",
            "Unpacking objects: 100% (13/13), done.\n"
          ]
        }
      ]
    },
    {
      "cell_type": "code",
      "source": [
        "! git commit -a -m \"Praktikum 1_Logistic Regression\""
      ],
      "metadata": {
        "colab": {
          "base_uri": "https://localhost:8080/"
        },
        "id": "moNT2NrFTUP_",
        "outputId": "ac6c9f8a-5775-466f-bef6-dcf54795c77f"
      },
      "execution_count": 91,
      "outputs": [
        {
          "output_type": "stream",
          "name": "stdout",
          "text": [
            "fatal: not a git repository (or any of the parent directories): .git\n"
          ]
        }
      ]
    }
  ]
}